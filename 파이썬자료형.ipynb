{
 "cells": [
  {
   "cell_type": "code",
   "execution_count": 2,
   "id": "86e062e4",
   "metadata": {},
   "outputs": [
    {
     "name": "stdout",
     "output_type": "stream",
     "text": [
      "hello world!\n"
     ]
    }
   ],
   "source": [
    "print('hello world!')"
   ]
  },
  {
   "cell_type": "code",
   "execution_count": 5,
   "id": "fd8205d1",
   "metadata": {},
   "outputs": [
    {
     "name": "stdout",
     "output_type": "stream",
     "text": [
      "<class 'int'>\n",
      "<class 'tuple'>\n"
     ]
    }
   ],
   "source": [
    "t1=(1)\n",
    "t2=(1,)\n",
    "print(type(t1))\n",
    "print(type(t2))"
   ]
  },
  {
   "cell_type": "markdown",
   "id": "b98b585a",
   "metadata": {},
   "source": [
    "## 튜플 "
   ]
  },
  {
   "cell_type": "code",
   "execution_count": 6,
   "id": "0acab6e3",
   "metadata": {},
   "outputs": [],
   "source": [
    "t = (1,2,3,4,5,6)"
   ]
  },
  {
   "cell_type": "code",
   "execution_count": 7,
   "id": "8c516a81",
   "metadata": {},
   "outputs": [
    {
     "data": {
      "text/plain": [
       "1"
      ]
     },
     "execution_count": 7,
     "metadata": {},
     "output_type": "execute_result"
    }
   ],
   "source": [
    "t[0]"
   ]
  },
  {
   "cell_type": "code",
   "execution_count": 8,
   "id": "a8170381",
   "metadata": {},
   "outputs": [
    {
     "name": "stdout",
     "output_type": "stream",
     "text": [
      "(1, 2, 3, 4, 5, 6, 1, 2, 3, 4, 5, 6, 1, 2, 3, 4, 5, 6)\n"
     ]
    }
   ],
   "source": [
    "print(t*3)"
   ]
  },
  {
   "cell_type": "code",
   "execution_count": 10,
   "id": "4cccfcc4",
   "metadata": {},
   "outputs": [
    {
     "name": "stdout",
     "output_type": "stream",
     "text": [
      "(1, 2, 3)\n"
     ]
    }
   ],
   "source": [
    "#튜플 패킹\n",
    "a = 1,2,3\n",
    "print(a)"
   ]
  },
  {
   "cell_type": "code",
   "execution_count": 11,
   "id": "9560ddb9",
   "metadata": {},
   "outputs": [
    {
     "name": "stdout",
     "output_type": "stream",
     "text": [
      "1 2 3\n"
     ]
    }
   ],
   "source": [
    "#튜플 언패킹\n",
    "one, two, threee = a\n",
    "print(one, two, threee)"
   ]
  },
  {
   "cell_type": "code",
   "execution_count": 12,
   "id": "fc80d212",
   "metadata": {},
   "outputs": [
    {
     "data": {
      "text/plain": [
       "0"
      ]
     },
     "execution_count": 12,
     "metadata": {},
     "output_type": "execute_result"
    }
   ],
   "source": [
    "#튜플 관련 함수\n",
    "a.index(1)"
   ]
  },
  {
   "cell_type": "markdown",
   "id": "e8073e42",
   "metadata": {},
   "source": [
    "## 집합\n",
    "- 순서없이 항목을 저장, 항목이 중복 될 수 없음"
   ]
  },
  {
   "cell_type": "code",
   "execution_count": 32,
   "id": "818f00a4",
   "metadata": {},
   "outputs": [],
   "source": [
    "s1 = set([1,2,3])\n",
    "s2 = {3,4,5,6}"
   ]
  },
  {
   "cell_type": "code",
   "execution_count": 33,
   "id": "3145def8",
   "metadata": {},
   "outputs": [
    {
     "name": "stdout",
     "output_type": "stream",
     "text": [
      "hellohello\n"
     ]
    }
   ],
   "source": [
    "word = 'hello'*2\n",
    "print(word)"
   ]
  },
  {
   "cell_type": "code",
   "execution_count": 34,
   "id": "ac831950",
   "metadata": {},
   "outputs": [
    {
     "name": "stdout",
     "output_type": "stream",
     "text": [
      "['h', 'e', 'l', 'l', 'o', 'h', 'e', 'l', 'l', 'o']\n"
     ]
    }
   ],
   "source": [
    "word_list = list(word)\n",
    "print(word_list)"
   ]
  },
  {
   "cell_type": "code",
   "execution_count": 35,
   "id": "abcb9b55",
   "metadata": {},
   "outputs": [
    {
     "name": "stdout",
     "output_type": "stream",
     "text": [
      "{'e', 'o', 'l', 'h'}\n"
     ]
    }
   ],
   "source": [
    "s3 = set(word_list)\n",
    "print(s3)"
   ]
  },
  {
   "cell_type": "code",
   "execution_count": 36,
   "id": "bb399da6",
   "metadata": {},
   "outputs": [
    {
     "name": "stdout",
     "output_type": "stream",
     "text": [
      "{10, 1, 2, 3}\n"
     ]
    }
   ],
   "source": [
    "#집합관련함수\n",
    "s1.add(10)\n",
    "print(s1)"
   ]
  },
  {
   "cell_type": "code",
   "execution_count": 37,
   "id": "675a5498",
   "metadata": {},
   "outputs": [
    {
     "name": "stdout",
     "output_type": "stream",
     "text": [
      "{10, 1, 3}\n"
     ]
    }
   ],
   "source": [
    "s1.discard(2)\n",
    "print(s1)"
   ]
  },
  {
   "cell_type": "code",
   "execution_count": 38,
   "id": "90e64175",
   "metadata": {},
   "outputs": [
    {
     "name": "stdout",
     "output_type": "stream",
     "text": [
      "{1, 3, 5, 7, 9, 10}\n"
     ]
    }
   ],
   "source": [
    "s1.update([1,3,5,7,9])\n",
    "print(s1)"
   ]
  },
  {
   "cell_type": "code",
   "execution_count": 39,
   "id": "b4e9424a",
   "metadata": {},
   "outputs": [
    {
     "name": "stdout",
     "output_type": "stream",
     "text": [
      "set()\n"
     ]
    }
   ],
   "source": [
    "s1.clear()\n",
    "print(s1)"
   ]
  },
  {
   "cell_type": "code",
   "execution_count": 40,
   "id": "3dca72fd",
   "metadata": {},
   "outputs": [
    {
     "name": "stdout",
     "output_type": "stream",
     "text": [
      "{1, 3, 5, 7, 9}\n"
     ]
    }
   ],
   "source": [
    "s1.update([1,3,5,7,9])\n",
    "s1.union(s2)\n",
    "print(s1)"
   ]
  },
  {
   "cell_type": "code",
   "execution_count": 41,
   "id": "1511c965",
   "metadata": {},
   "outputs": [
    {
     "name": "stdout",
     "output_type": "stream",
     "text": [
      "{1, 9, 7}\n"
     ]
    }
   ],
   "source": [
    "print(s1-s2)"
   ]
  },
  {
   "cell_type": "code",
   "execution_count": 48,
   "id": "3d910fb8",
   "metadata": {},
   "outputs": [
    {
     "name": "stdout",
     "output_type": "stream",
     "text": [
      "{75, 45, 15, 90, 60, 30}\n"
     ]
    }
   ],
   "source": [
    "#1부터 100까지 숫자 중 3과 5의 공배수를 집합형태로 만들어 아래와 같이 출력하시오\n",
    "\n",
    "s3 = {i for i in range(1,101) if i%3 == 0}\n",
    "s5 = {i for i in range(1,101) if i%5 == 0}\n",
    "s = s3&s5\n",
    "print(s)\n"
   ]
  },
  {
   "cell_type": "markdown",
   "id": "17ade868",
   "metadata": {},
   "source": [
    "## 딕셔너리\n",
    "- 중괄호로 묶여있으며 key와 value의 쌍으로 이루어짐"
   ]
  },
  {
   "cell_type": "code",
   "execution_count": 49,
   "id": "bd0a2040",
   "metadata": {},
   "outputs": [
    {
     "name": "stdout",
     "output_type": "stream",
     "text": [
      "{'kim': 1, 'park': 2}\n"
     ]
    }
   ],
   "source": [
    "d = {}\n",
    "d['kim'] = 1\n",
    "d['park'] = 2\n",
    "print(d)"
   ]
  },
  {
   "cell_type": "code",
   "execution_count": 50,
   "id": "7c45e237",
   "metadata": {},
   "outputs": [
    {
     "name": "stdout",
     "output_type": "stream",
     "text": [
      "dict_keys(['kim', 'park'])\n",
      "dict_values([1, 2])\n"
     ]
    }
   ],
   "source": [
    "print(d.keys())\n",
    "print(d.values())"
   ]
  },
  {
   "cell_type": "code",
   "execution_count": 51,
   "id": "6a82691e",
   "metadata": {},
   "outputs": [
    {
     "name": "stdout",
     "output_type": "stream",
     "text": [
      "{'kim': 1, 'park': 2, 'lim': 3}\n"
     ]
    }
   ],
   "source": [
    "d['lim']=3\n",
    "print(d)"
   ]
  },
  {
   "cell_type": "code",
   "execution_count": 52,
   "id": "0f725a99",
   "metadata": {},
   "outputs": [
    {
     "data": {
      "text/plain": [
       "dict_items([('kim', 1), ('park', 2), ('lim', 3)])"
      ]
     },
     "execution_count": 52,
     "metadata": {},
     "output_type": "execute_result"
    }
   ],
   "source": [
    "d.items()"
   ]
  },
  {
   "cell_type": "code",
   "execution_count": 53,
   "id": "6fa2ab15",
   "metadata": {},
   "outputs": [
    {
     "data": {
      "text/plain": [
       "True"
      ]
     },
     "execution_count": 53,
     "metadata": {},
     "output_type": "execute_result"
    }
   ],
   "source": [
    "'kim' in d"
   ]
  },
  {
   "cell_type": "code",
   "execution_count": 54,
   "id": "5b495a3a",
   "metadata": {},
   "outputs": [
    {
     "data": {
      "text/plain": [
       "False"
      ]
     },
     "execution_count": 54,
     "metadata": {},
     "output_type": "execute_result"
    }
   ],
   "source": [
    "'lee' in d"
   ]
  },
  {
   "cell_type": "code",
   "execution_count": 55,
   "id": "12dfb6e8",
   "metadata": {},
   "outputs": [
    {
     "name": "stdout",
     "output_type": "stream",
     "text": [
      "{'park': 2, 'lim': 3}\n"
     ]
    }
   ],
   "source": [
    "del d['kim']\n",
    "print(d)"
   ]
  },
  {
   "cell_type": "code",
   "execution_count": null,
   "id": "23892cad",
   "metadata": {},
   "outputs": [],
   "source": [
    "a = input('Enter a sentense:')\n",
    "di = {}\n",
    "i=0\n",
    "for i in a:\n",
    "    if i in di:\n",
    "        di[i] += 1\n",
    "    else:\n",
    "        di[i] = 1\n",
    "print(di)\n"
   ]
  },
  {
   "cell_type": "code",
   "execution_count": null,
   "id": "4874abcb",
   "metadata": {},
   "outputs": [],
   "source": [
    "print(10)"
   ]
  },
  {
   "cell_type": "code",
   "execution_count": 10,
   "id": "2d849fa4",
   "metadata": {},
   "outputs": [
    {
     "name": "stdout",
     "output_type": "stream",
     "text": [
      "[3, 6, 9, 12, 15, 18, 21, 24, 27, 30, 33, 36, 39, 42, 45, 48, 51, 54, 57, 60, 63, 66, 69, 72, 75, 78, 81, 84, 87, 90, 93, 96, 99]\n"
     ]
    }
   ],
   "source": [
    "s=[]\n",
    "for i in range(1,101):\n",
    "    if i % 3 == 0:\n",
    "        s = s + [i]\n",
    "print(s)"
   ]
  }
 ],
 "metadata": {
  "kernelspec": {
   "display_name": "Python 3 (ipykernel)",
   "language": "python",
   "name": "python3"
  },
  "language_info": {
   "codemirror_mode": {
    "name": "ipython",
    "version": 3
   },
   "file_extension": ".py",
   "mimetype": "text/x-python",
   "name": "python",
   "nbconvert_exporter": "python",
   "pygments_lexer": "ipython3",
   "version": "3.9.13"
  }
 },
 "nbformat": 4,
 "nbformat_minor": 5
}
