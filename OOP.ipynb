{
 "cells": [
  {
   "cell_type": "markdown",
   "id": "6f1032f9",
   "metadata": {},
   "source": [
    "## 들어가기 앞서\n",
    "\n",
    "### 단일 은행 계좌 모델링\n",
    "balance: 잔액을 나타내는 변수\n",
    "deposit(amount): amount를 받아 잔액에 입금하는 함수\n",
    "withdraw(amount): amount를 받아 잔액에 출금하는 함수"
   ]
  },
  {
   "cell_type": "code",
   "execution_count": 2,
   "id": "637e7ede",
   "metadata": {},
   "outputs": [
    {
     "name": "stdout",
     "output_type": "stream",
     "text": [
      "0\n",
      "500\n",
      "500\n",
      "200\n",
      "200\n"
     ]
    }
   ],
   "source": [
    "balance = 0\n",
    "\n",
    "def deposit(amount):\n",
    "    global balance\n",
    "    balance += amount\n",
    "    return balance\n",
    "\n",
    "def withdraw(amount):\n",
    "    global balance\n",
    "    balance -= amount\n",
    "    return balance\n",
    "\n",
    "print(balance)\n",
    "print(deposit(500))\n",
    "print(balance)\n",
    "print(withdraw(300))\n",
    "print(balance)"
   ]
  },
  {
   "cell_type": "markdown",
   "id": "03efdcc2",
   "metadata": {},
   "source": [
    "## 객체 지향 프로그래밍\n",
    "프로그래밍 패러다임(paradigm) 중 하나\n",
    "\n",
    "객체란? 모종의 변수와 메서드를 담는 추상적 개념\n",
    "\n",
    "프로그램을 객체 간의 상호작용으로 서술"
   ]
  },
  {
   "cell_type": "code",
   "execution_count": 3,
   "id": "8e04217a",
   "metadata": {},
   "outputs": [],
   "source": [
    "class Dog:\n",
    "    \"\"\"A simple example class\"\"\"\n",
    "    name = 'MongJa'\n",
    "    \n",
    "    def bark(self):\n",
    "        return 'wal wal'"
   ]
  },
  {
   "cell_type": "code",
   "execution_count": 4,
   "id": "54a0717a",
   "metadata": {},
   "outputs": [],
   "source": [
    "dog1 = Dog()"
   ]
  },
  {
   "cell_type": "code",
   "execution_count": 5,
   "id": "a1c03f4d",
   "metadata": {},
   "outputs": [
    {
     "data": {
      "text/plain": [
       "'MongJa'"
      ]
     },
     "execution_count": 5,
     "metadata": {},
     "output_type": "execute_result"
    }
   ],
   "source": [
    "dog1.name"
   ]
  },
  {
   "cell_type": "code",
   "execution_count": 7,
   "id": "fe651eb1",
   "metadata": {},
   "outputs": [
    {
     "data": {
      "text/plain": [
       "'wal wal'"
      ]
     },
     "execution_count": 7,
     "metadata": {},
     "output_type": "execute_result"
    }
   ],
   "source": [
    "dog1.bark()"
   ]
  },
  {
   "cell_type": "markdown",
   "id": "9975580b",
   "metadata": {},
   "source": [
    "## 메서드\n",
    "일반 함수 객체와 달리, 클래스에 종속되어 있는 함수를 지칭\n",
    "\n",
    "대상이 되는 객체가 있어야 사용 하며 모든 메서드는 첫번째 인자가 항상 존재하여야 함 (“self”)"
   ]
  },
  {
   "cell_type": "markdown",
   "id": "3e4e22cf",
   "metadata": {},
   "source": [
    "## 특수 메서드\n",
    "### 특징\n",
    "항상 “__메서드이름__”과 같은 이름을 가짐\n",
    "\n",
    "내장 함수와 동일하게 미리 동작이 정의 되어 있음\n",
    "\n",
    "일반적인 메서드의 사용 방법과는 다르게 자동으로 작동함\n",
    "\n",
    "### 가장 대표적인 특수 메서드 __init__\n",
    "인스턴스 생성시 자동으로 호출되는 메서드\n",
    "\n",
    "인스턴스가 갖게 될 여러 어트리뷰트를 정해 주는 역할"
   ]
  },
  {
   "cell_type": "code",
   "execution_count": 8,
   "id": "aa485a79",
   "metadata": {},
   "outputs": [],
   "source": [
    "class Sample:\n",
    "    def __init__(self):\n",
    "        print('init 함수가 호출되었네요!')"
   ]
  },
  {
   "cell_type": "code",
   "execution_count": 9,
   "id": "8a820136",
   "metadata": {},
   "outputs": [
    {
     "name": "stdout",
     "output_type": "stream",
     "text": [
      "init 함수가 호출되었네요!\n"
     ]
    }
   ],
   "source": [
    "a = Sample()"
   ]
  },
  {
   "cell_type": "code",
   "execution_count": 19,
   "id": "e55af6fc",
   "metadata": {},
   "outputs": [],
   "source": [
    "class Building:\n",
    "    name = \"공학1동\"\n",
    "    h = 3\n",
    "    elev = True\n",
    "    \n",
    "    def get_info(self):\n",
    "        print('건물이름=', self.name)\n",
    "        print('건물층수=', self.h)\n",
    "        print('엘리베이터 유무=', self.elev)"
   ]
  },
  {
   "cell_type": "code",
   "execution_count": 21,
   "id": "b37f0467",
   "metadata": {},
   "outputs": [],
   "source": [
    "a = Building()\n",
    "b = Building()"
   ]
  },
  {
   "cell_type": "code",
   "execution_count": 22,
   "id": "64d5fac6",
   "metadata": {},
   "outputs": [
    {
     "name": "stdout",
     "output_type": "stream",
     "text": [
      "건물이름= 공학1동\n",
      "건물층수= 3\n",
      "엘리베이터 유무= True\n",
      "\n",
      "건물이름= 공학1동\n",
      "건물층수= 3\n",
      "엘리베이터 유무= True\n"
     ]
    }
   ],
   "source": [
    "a.get_info()\n",
    "print()\n",
    "b.get_info()"
   ]
  },
  {
   "cell_type": "code",
   "execution_count": 23,
   "id": "3ff46967",
   "metadata": {},
   "outputs": [],
   "source": [
    "class Building:\n",
    "    def __init__(self, name='공학1동', h=3, elev=True):\n",
    "        self.name = name\n",
    "        self.h = h\n",
    "        self.elev = elev\n",
    "    \n",
    "    def get_info(self):\n",
    "        print('건물이름=', self.name)\n",
    "        print('건물층수=', self.h)\n",
    "        print('엘리베이터 유무=', self.elev)"
   ]
  },
  {
   "cell_type": "code",
   "execution_count": 24,
   "id": "ca35f20c",
   "metadata": {},
   "outputs": [],
   "source": [
    "a = Building()\n",
    "b = Building('공학2동', 10, True)"
   ]
  },
  {
   "cell_type": "code",
   "execution_count": 25,
   "id": "3181bc5c",
   "metadata": {},
   "outputs": [
    {
     "name": "stdout",
     "output_type": "stream",
     "text": [
      "건물이름= 공학1동\n",
      "건물층수= 3\n",
      "엘리베이터 유무= True\n",
      "\n",
      "건물이름= 공학2동\n",
      "건물층수= 10\n",
      "엘리베이터 유무= True\n"
     ]
    }
   ],
   "source": [
    "a.get_info()\n",
    "print()\n",
    "b.get_info()"
   ]
  },
  {
   "cell_type": "code",
   "execution_count": 65,
   "id": "bf00f8fc",
   "metadata": {},
   "outputs": [],
   "source": [
    "#클래스 실습\n",
    "\n",
    "class person:\n",
    "    def __init__(self, name='홍길동', age=23, height=185, weight=75):\n",
    "        self.name = name\n",
    "        self.age = age\n",
    "        self.height = height\n",
    "        self.weight = weight\n",
    "        \n",
    "    def inc_age(self):\n",
    "        self.age += 1\n",
    "        \n",
    "    def update_h(self):\n",
    "        self.height += 10\n",
    "    \n",
    "    def update_w(self):\n",
    "        self.weight += 10\n"
   ]
  },
  {
   "cell_type": "code",
   "execution_count": 68,
   "id": "3f26d06f",
   "metadata": {},
   "outputs": [
    {
     "name": "stdout",
     "output_type": "stream",
     "text": [
      "홍길동\n"
     ]
    }
   ],
   "source": [
    "p1 = person('홍길동', 20, 150, 50)\n",
    "print(p1.name)"
   ]
  },
  {
   "cell_type": "code",
   "execution_count": 69,
   "id": "a6cdb1d2",
   "metadata": {},
   "outputs": [
    {
     "name": "stdout",
     "output_type": "stream",
     "text": [
      "21\n"
     ]
    }
   ],
   "source": [
    "p1.inc_age()\n",
    "print(p1.age)"
   ]
  },
  {
   "cell_type": "code",
   "execution_count": 70,
   "id": "f29aa3a6",
   "metadata": {},
   "outputs": [
    {
     "name": "stdout",
     "output_type": "stream",
     "text": [
      "160\n"
     ]
    }
   ],
   "source": [
    "p1.update_h()\n",
    "print(p1.height)"
   ]
  },
  {
   "cell_type": "code",
   "execution_count": 71,
   "id": "01cadb2f",
   "metadata": {},
   "outputs": [
    {
     "name": "stdout",
     "output_type": "stream",
     "text": [
      "60\n"
     ]
    }
   ],
   "source": [
    "p1.update_w()\n",
    "print(p1.weight)"
   ]
  },
  {
   "cell_type": "markdown",
   "id": "281e7ddf",
   "metadata": {},
   "source": [
    "## SELF\n",
    "인스턴스의 직관적인 사용 및 사용자의 편의 도모"
   ]
  },
  {
   "cell_type": "code",
   "execution_count": 2,
   "id": "fa3b79f8",
   "metadata": {},
   "outputs": [],
   "source": [
    "class Dog:\n",
    "    def __init__(self, name, age):\n",
    "        self.name = name\n",
    "        self.age = age\n",
    "        \n",
    "    def print_name_age(self):\n",
    "        print(self.name, self.age)"
   ]
  },
  {
   "cell_type": "code",
   "execution_count": 3,
   "id": "716b0669",
   "metadata": {},
   "outputs": [],
   "source": [
    "d1 = Dog('yomi', 5)\n",
    "d2 = Dog('DangDangE', 2)"
   ]
  },
  {
   "cell_type": "code",
   "execution_count": 4,
   "id": "ed1b74a1",
   "metadata": {},
   "outputs": [
    {
     "name": "stdout",
     "output_type": "stream",
     "text": [
      "yomi 5\n",
      "DangDangE 2\n"
     ]
    }
   ],
   "source": [
    "d1.print_name_age()\n",
    "d2.print_name_age()"
   ]
  },
  {
   "cell_type": "code",
   "execution_count": 6,
   "id": "691e30d7",
   "metadata": {},
   "outputs": [
    {
     "name": "stdout",
     "output_type": "stream",
     "text": [
      "yomi 5\n",
      "DangDangE 2\n"
     ]
    }
   ],
   "source": [
    "Dog.print_name_age(d1)\n",
    "Dog.print_name_age(d2)"
   ]
  },
  {
   "cell_type": "code",
   "execution_count": 50,
   "id": "aecffdf4",
   "metadata": {},
   "outputs": [],
   "source": [
    "#은행 계좌 클래스 만들기\n",
    "\n",
    "class BankAccount:\n",
    "    def __init__(self, balance = 0, name = 'none'):\n",
    "        self.balance = balance\n",
    "        self.name = name\n",
    "    \n",
    "    def deposit(self, amount):\n",
    "        self.balance += amount\n",
    "    \n",
    "    def withdraw(self, amount):\n",
    "        if self.balance >= amount:\n",
    "            self.balance -= amount\n",
    "        else:\n",
    "            print('잔액부족')\n",
    "    \n",
    "    def get_info(self):\n",
    "        print(\"이름: \", self.name)\n",
    "        print(\"잔고: \", self.balance)\n"
   ]
  },
  {
   "cell_type": "code",
   "execution_count": 55,
   "id": "cb96b709",
   "metadata": {},
   "outputs": [
    {
     "name": "stdout",
     "output_type": "stream",
     "text": [
      "이름:  Seungho\n",
      "잔고:  1000\n"
     ]
    }
   ],
   "source": [
    "a = BankAccount(1000,'Seungho')\n",
    "a.get_info()"
   ]
  },
  {
   "cell_type": "code",
   "execution_count": 56,
   "id": "ac048a68",
   "metadata": {},
   "outputs": [
    {
     "name": "stdout",
     "output_type": "stream",
     "text": [
      "잔액부족\n",
      "이름:  Seungho\n",
      "잔고:  1000\n"
     ]
    }
   ],
   "source": [
    "a.withdraw(1100)\n",
    "a.get_info()"
   ]
  },
  {
   "cell_type": "markdown",
   "id": "6b85fc91",
   "metadata": {},
   "source": [
    "## 상속\n",
    "### 기존 클래스의 속성을 물려 받아 새로운 클래스를 만드는 것\n",
    "새 클래스는 기존 클래스의 모든 변수 및 메서드를 가짐\n",
    "\n",
    "주로 기존 클래스를 확장하는 용도로 사용\n",
    "\n",
    "다중 클래스도 상속 가능 ”,”로 구분"
   ]
  },
  {
   "cell_type": "code",
   "execution_count": 57,
   "id": "299732f9",
   "metadata": {},
   "outputs": [],
   "source": [
    "class A:\n",
    "    a = 1\n",
    "    def print_a(self):\n",
    "        print(\"A class\")"
   ]
  },
  {
   "cell_type": "code",
   "execution_count": 58,
   "id": "b5f86fec",
   "metadata": {},
   "outputs": [],
   "source": [
    "class B:\n",
    "    b = 1\n",
    "    def print_b(self):\n",
    "        print(\"B class\")"
   ]
  },
  {
   "cell_type": "code",
   "execution_count": 59,
   "id": "fa4b39c5",
   "metadata": {},
   "outputs": [],
   "source": [
    "class C(A):\n",
    "    c = 1\n",
    "    def print_c(self):\n",
    "        print(\"C class\")"
   ]
  },
  {
   "cell_type": "code",
   "execution_count": 60,
   "id": "13a81b2c",
   "metadata": {},
   "outputs": [],
   "source": [
    "class D(C,B):\n",
    "    d = 1\n",
    "    def print_d(self):\n",
    "        print(\"D class\")"
   ]
  },
  {
   "cell_type": "code",
   "execution_count": 61,
   "id": "28675a17",
   "metadata": {},
   "outputs": [],
   "source": [
    "c =C()\n",
    "d =D()"
   ]
  },
  {
   "cell_type": "code",
   "execution_count": 62,
   "id": "517e876c",
   "metadata": {},
   "outputs": [
    {
     "data": {
      "text/plain": [
       "[__main__.D, __main__.C, __main__.A, __main__.B, object]"
      ]
     },
     "execution_count": 62,
     "metadata": {},
     "output_type": "execute_result"
    }
   ],
   "source": [
    "D.mro()"
   ]
  },
  {
   "cell_type": "markdown",
   "id": "7a847c69",
   "metadata": {},
   "source": [
    "## 메서드 오버라이딩\n",
    "### 기존 클래스 메서드를 상속 클래스에서 재정의 하는 것\n",
    "재정의하지 않은 메서드는 기존 클래스의 것을 그대로 사용\n",
    "\n",
    "오버라이딩한 경우 기존 클래스의 메서드를 사용하고자 하는 경우 super() 사용"
   ]
  },
  {
   "cell_type": "code",
   "execution_count": 63,
   "id": "84570f9e",
   "metadata": {},
   "outputs": [],
   "source": [
    "class A():\n",
    "    def __init__(self):\n",
    "        print('this is [A] class and [__init__] function')\n",
    "        self.var1 = 0\n",
    "        self.var2 = 0\n",
    "    \n",
    "class B(A):\n",
    "    def __init__(self):\n",
    "        super().__init__()\n",
    "        print('this is [B] class and [__init__] function')\n",
    "        self.var3 = 0\n",
    "        self.var4 = 0\n",
    "        "
   ]
  },
  {
   "cell_type": "code",
   "execution_count": 64,
   "id": "f33baffd",
   "metadata": {},
   "outputs": [
    {
     "name": "stdout",
     "output_type": "stream",
     "text": [
      "this is [A] class and [__init__] function\n",
      "this is [A] class and [__init__] function\n",
      "this is [B] class and [__init__] function\n"
     ]
    }
   ],
   "source": [
    "a = A()\n",
    "b = B()"
   ]
  },
  {
   "cell_type": "code",
   "execution_count": 140,
   "id": "fe12548f",
   "metadata": {},
   "outputs": [],
   "source": [
    "##최소 잔액 유지하는 계좌 클래스\n",
    "\n",
    "class BankAccount:\n",
    "    def __init__(self, balance = 0, name = 'none'):\n",
    "        self.balance = balance\n",
    "        self.name = name\n",
    "    \n",
    "    def deposit(self, amount):\n",
    "        self.balance += amount\n",
    "    \n",
    "    def withdraw(self, amount):\n",
    "        if self.balance >= amount:\n",
    "            self.balance -= amount\n",
    "        else:\n",
    "            print('잔액부족')\n",
    "    \n",
    "    def get_info(self):\n",
    "        print(\"이름: \", self.name)\n",
    "        print(\"잔고: \", self.balance)\n",
    "\n",
    "class MinimumBalanceAccount(BankAccount):\n",
    "    def __init__(self, balance = 0, name = 'none', min_bal = 0):\n",
    "        super().__init__(balance, name)\n",
    "        self.min_bal = min_bal\n",
    "    \n",
    "    def withdraw(self, amount):\n",
    "        if self.balance - amount < self.min_bal:\n",
    "            print('최소 잔액을 유지해야 합니다')\n",
    "        else:\n",
    "            super().withdraw(amount)\n"
   ]
  },
  {
   "cell_type": "code",
   "execution_count": 141,
   "id": "6b82a852",
   "metadata": {},
   "outputs": [
    {
     "name": "stdout",
     "output_type": "stream",
     "text": [
      "최소 잔액을 유지해야 합니다\n",
      "이름:  kim\n",
      "잔고:  1500\n"
     ]
    }
   ],
   "source": [
    "acc = MinimumBalanceAccount(500, 'kim', 1000)\n",
    "acc.deposit(1000)\n",
    "acc.withdraw(600)\n",
    "acc.get_info()"
   ]
  },
  {
   "cell_type": "markdown",
   "id": "6892ef1c",
   "metadata": {},
   "source": [
    "## 연산자 오버로딩\n",
    "### Python의 연산자는 모두 내장된 특수 메소드를 호출함\n",
    "해당 메소드를 override 하는 것으로 기능 변경 가능\n",
    "\n",
    "e.g. a + b 는 자동으로 a.__add__(b) 를 호출"
   ]
  },
  {
   "cell_type": "code",
   "execution_count": null,
   "id": "0471c20c",
   "metadata": {},
   "outputs": [],
   "source": [
    "class BankAccount:\n",
    "    def __init__(self, balance = 0, name = 'none'):\n",
    "        self.balance = balance\n",
    "        self.name = name\n",
    "    \n",
    "    def deposit(self, amount):\n",
    "        self.balance += amount"
   ]
  },
  {
   "cell_type": "code",
   "execution_count": 142,
   "id": "e0cdecde",
   "metadata": {},
   "outputs": [
    {
     "name": "stdout",
     "output_type": "stream",
     "text": [
      "1000\n"
     ]
    }
   ],
   "source": [
    "acc = BankAccount(1000, 'kim')\n",
    "print(acc.balance)"
   ]
  },
  {
   "cell_type": "code",
   "execution_count": 144,
   "id": "30616933",
   "metadata": {},
   "outputs": [
    {
     "ename": "TypeError",
     "evalue": "unsupported operand type(s) for +: 'BankAccount' and 'int'",
     "output_type": "error",
     "traceback": [
      "\u001b[0;31m---------------------------------------------------------------------------\u001b[0m",
      "\u001b[0;31mTypeError\u001b[0m                                 Traceback (most recent call last)",
      "\u001b[0;32m/tmp/ipykernel_3099/3379435490.py\u001b[0m in \u001b[0;36m<module>\u001b[0;34m\u001b[0m\n\u001b[0;32m----> 1\u001b[0;31m \u001b[0macc\u001b[0m\u001b[0;34m+\u001b[0m\u001b[0;36m1000\u001b[0m\u001b[0;34m\u001b[0m\u001b[0;34m\u001b[0m\u001b[0m\n\u001b[0m\u001b[1;32m      2\u001b[0m \u001b[0mprint\u001b[0m\u001b[0;34m(\u001b[0m\u001b[0macc\u001b[0m\u001b[0;34m.\u001b[0m\u001b[0mbalance\u001b[0m\u001b[0;34m)\u001b[0m\u001b[0;34m\u001b[0m\u001b[0;34m\u001b[0m\u001b[0m\n",
      "\u001b[0;31mTypeError\u001b[0m: unsupported operand type(s) for +: 'BankAccount' and 'int'"
     ]
    }
   ],
   "source": [
    "acc+1000 ##더할수가 없음\n",
    "print(acc.balance) "
   ]
  },
  {
   "cell_type": "code",
   "execution_count": 145,
   "id": "97e388a6",
   "metadata": {},
   "outputs": [],
   "source": [
    "class BankAccount:\n",
    "    def __init__(self, balance = 0, name = 'none'):\n",
    "        self.balance = balance\n",
    "        self.name = name\n",
    "    \n",
    "    def deposit(self, amount):\n",
    "        self.balance += amount\n",
    "        \n",
    "    def __add__(self, amount):\n",
    "        self.deposit(amount)\n",
    "        \n",
    "    def __iadd__(self, amount):\n",
    "        self.deposit(amount)\n",
    "        return self"
   ]
  },
  {
   "cell_type": "code",
   "execution_count": 147,
   "id": "a0ad312b",
   "metadata": {},
   "outputs": [
    {
     "name": "stdout",
     "output_type": "stream",
     "text": [
      "1000\n"
     ]
    }
   ],
   "source": [
    "acc = BankAccount(1000, 'kim')\n",
    "print(acc.balance)"
   ]
  },
  {
   "cell_type": "code",
   "execution_count": 148,
   "id": "2ea9deff",
   "metadata": {},
   "outputs": [
    {
     "name": "stdout",
     "output_type": "stream",
     "text": [
      "2000\n"
     ]
    }
   ],
   "source": [
    "acc+1000 ##더하기 가능\n",
    "print(acc.balance) "
   ]
  },
  {
   "cell_type": "code",
   "execution_count": null,
   "id": "a8d618bb",
   "metadata": {},
   "outputs": [],
   "source": [
    "\n"
   ]
  },
  {
   "cell_type": "code",
   "execution_count": null,
   "id": "9b312a23",
   "metadata": {},
   "outputs": [],
   "source": []
  },
  {
   "cell_type": "code",
   "execution_count": null,
   "id": "688c105d",
   "metadata": {},
   "outputs": [],
   "source": []
  }
 ],
 "metadata": {
  "kernelspec": {
   "display_name": "Python 3 (ipykernel)",
   "language": "python",
   "name": "python3"
  },
  "language_info": {
   "codemirror_mode": {
    "name": "ipython",
    "version": 3
   },
   "file_extension": ".py",
   "mimetype": "text/x-python",
   "name": "python",
   "nbconvert_exporter": "python",
   "pygments_lexer": "ipython3",
   "version": "3.9.13"
  }
 },
 "nbformat": 4,
 "nbformat_minor": 5
}
