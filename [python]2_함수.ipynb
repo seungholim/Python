{
 "cells": [
  {
   "cell_type": "markdown",
   "id": "725775e2",
   "metadata": {},
   "source": [
    "## 함수\n",
    "사용이유 : 코드재사용/절차적 분해 "
   ]
  },
  {
   "cell_type": "code",
   "execution_count": 1,
   "id": "b766b11c",
   "metadata": {},
   "outputs": [
    {
     "name": "stdout",
     "output_type": "stream",
     "text": [
      "300\n"
     ]
    }
   ],
   "source": [
    "def add(a,b):\n",
    "    result = a+b\n",
    "    return result\n",
    "\n",
    "add_result = add(100,200)\n",
    "print(add_result)"
   ]
  },
  {
   "cell_type": "code",
   "execution_count": 2,
   "id": "104aaa4c",
   "metadata": {},
   "outputs": [],
   "source": [
    "def add3add5():\n",
    "    return 8"
   ]
  },
  {
   "cell_type": "markdown",
   "id": "4a7585ff",
   "metadata": {},
   "source": [
    "좋은 함수는 매개변수를 가지고 함수이름의 작업을 해서 반환값을 주는 함수로 설명 가수"
   ]
  },
  {
   "cell_type": "code",
   "execution_count": 3,
   "id": "2fb5337f",
   "metadata": {},
   "outputs": [
    {
     "name": "stdout",
     "output_type": "stream",
     "text": [
      "7\n",
      "12\n"
     ]
    }
   ],
   "source": [
    "def add_and_mul(a,b):\n",
    "    return(a+b,a*b)\n",
    "\n",
    "add_res,mul_res = add_and_mul(3,4)\n",
    "print(add_res)\n",
    "print(mul_res)"
   ]
  },
  {
   "cell_type": "code",
   "execution_count": 8,
   "id": "cc19d57b",
   "metadata": {},
   "outputs": [
    {
     "data": {
      "text/plain": [
       "6"
      ]
     },
     "execution_count": 8,
     "metadata": {},
     "output_type": "execute_result"
    }
   ],
   "source": [
    "def my_len(x):\n",
    "    length = 0\n",
    "    for i in x:\n",
    "        length += 1\n",
    "    return length\n",
    "\n",
    "my_len('ing on')"
   ]
  },
  {
   "cell_type": "code",
   "execution_count": 22,
   "id": "380ffde6",
   "metadata": {},
   "outputs": [
    {
     "data": {
      "text/plain": [
       "120"
      ]
     },
     "execution_count": 22,
     "metadata": {},
     "output_type": "execute_result"
    }
   ],
   "source": [
    "def mult(a,b):\n",
    "    s = 1\n",
    "    for i in range(a, b+1):\n",
    "        s *= i\n",
    "    return s\n",
    "\n",
    "mult(2,5)"
   ]
  },
  {
   "cell_type": "code",
   "execution_count": 25,
   "id": "c0172154",
   "metadata": {},
   "outputs": [
    {
     "data": {
      "text/plain": [
       "(12, -10)"
      ]
     },
     "execution_count": 25,
     "metadata": {},
     "output_type": "execute_result"
    }
   ],
   "source": [
    "def sum_pos_neg(l):\n",
    "    possum = []\n",
    "    negsum = []\n",
    "    for i in range (len(l)):\n",
    "        if l[i]>0:\n",
    "            possum.append(l[i])\n",
    "        else:\n",
    "            negsum.append(l[i])\n",
    "    return (sum(possum),sum(negsum))\n",
    "\n",
    "sum_pos_neg([3,4,5,-3,-7])\n",
    "    \n",
    "    \n",
    "    "
   ]
  },
  {
   "cell_type": "markdown",
   "id": "0621301f",
   "metadata": {},
   "source": [
    "## 가변 매개변수"
   ]
  },
  {
   "cell_type": "code",
   "execution_count": 27,
   "id": "10880bf8",
   "metadata": {},
   "outputs": [
    {
     "data": {
      "text/plain": [
       "2"
      ]
     },
     "execution_count": 27,
     "metadata": {},
     "output_type": "execute_result"
    }
   ],
   "source": [
    "#짝수 갯수 구하기\n",
    "\n",
    "def count_even(*n):\n",
    "    cnt = 0\n",
    "    for i in n:\n",
    "        if i%2 == 0:\n",
    "            cnt += 1\n",
    "    return cnt\n",
    "\n",
    "count_even(1,2,3,4,5)"
   ]
  },
  {
   "cell_type": "code",
   "execution_count": 29,
   "id": "c9999912",
   "metadata": {},
   "outputs": [
    {
     "name": "stdout",
     "output_type": "stream",
     "text": [
      "[1.5, 1.5] [7.5, 5.5] [4.140000000000001, 2.72]\n"
     ]
    }
   ],
   "source": [
    "def vector_sum(vector, *vectors):\n",
    "    result = vector[:]\n",
    "    for i in vectors:\n",
    "        result[0] += i[0]\n",
    "        result[1] += i[1]\n",
    "    return result\n",
    "    \n",
    "v1=[0, 1]\n",
    "v2=[0.5, 0.5]\n",
    "v3=[1, 0]\n",
    "v4=[6, 4]\n",
    "v5=[3.14, 2.72]\n",
    "m1 = vector_sum(v1, v2, v3)\n",
    "m2 = vector_sum(v1, v2, v3, v4)\n",
    "m3 = vector_sum(v3, v5)\n",
    "print(m1,m2,m3)"
   ]
  },
  {
   "cell_type": "markdown",
   "id": "aa40028c",
   "metadata": {},
   "source": [
    "## 디폴트 매개변수"
   ]
  },
  {
   "cell_type": "code",
   "execution_count": 30,
   "id": "47b7fd4d",
   "metadata": {},
   "outputs": [
    {
     "name": "stdout",
     "output_type": "stream",
     "text": [
      "My name is Gildong Hong.\n",
      "My name is Gildong kim.\n"
     ]
    }
   ],
   "source": [
    "def print_name(first, second = 'kim'):\n",
    "    print('My name is', first, second + '.')\n",
    "    \n",
    "print_name('Gildong', 'Hong')\n",
    "print_name('Gildong')"
   ]
  },
  {
   "cell_type": "markdown",
   "id": "83b5ff6b",
   "metadata": {},
   "source": [
    "## 키워드 매개변수"
   ]
  },
  {
   "cell_type": "code",
   "execution_count": 31,
   "id": "28a8a7ed",
   "metadata": {},
   "outputs": [
    {
     "name": "stdout",
     "output_type": "stream",
     "text": [
      "60\n"
     ]
    },
    {
     "data": {
      "text/plain": [
       "30"
      ]
     },
     "execution_count": 31,
     "metadata": {},
     "output_type": "execute_result"
    }
   ],
   "source": [
    "def calc(x, y=0, z=0):\n",
    "    return x+y+z\n",
    "\n",
    "result = calc(y=20, x=10, z=30)\n",
    "print(result)\n",
    "\n",
    "calc(y=20, x=10)"
   ]
  },
  {
   "cell_type": "code",
   "execution_count": 32,
   "id": "c215d9ac",
   "metadata": {},
   "outputs": [
    {
     "name": "stdout",
     "output_type": "stream",
     "text": [
      "[1, 1, 2, 2, 3, 5, 9]\n",
      "[0, 4, 6, 9]\n",
      "[0, 0]\n"
     ]
    }
   ],
   "source": [
    "def merge_list(a=[0],b=[0]):\n",
    "    return sorted(a+b)\n",
    "\n",
    "l = [3, 5, 9, 1, 2]\n",
    "ml1 = merge_list(l,[2,1])\n",
    "ml2 = merge_list([6,9,4])\n",
    "ml3 = merge_list()\n",
    "print(ml1)\n",
    "print(ml2)\n",
    "print(ml3)\n",
    "    "
   ]
  },
  {
   "cell_type": "code",
   "execution_count": 8,
   "id": "cd9d1a92",
   "metadata": {},
   "outputs": [
    {
     "name": "stdout",
     "output_type": "stream",
     "text": [
      "** 로또 번호 자동 기입을 시작합니다 **\n",
      "1 번째 자동기입 ==> [19, 42, 39, 14, 15, 31]\n",
      "2 번째 자동기입 ==> [38, 44, 6, 40, 2, 35]\n",
      "3 번째 자동기입 ==> [23, 25, 14, 44, 19, 38]\n",
      "4 번째 자동기입 ==> [31, 30, 8, 32, 6, 7]\n",
      "5 번째 자동기입 ==> [13, 23, 33, 37, 5, 26]\n"
     ]
    }
   ],
   "source": [
    "#6 로또 번호 자동 기입 프로그램\n",
    "\n",
    "print('** 로또 번호 자동 기입을 시작합니다 **')\n",
    "import random\n",
    "for i in range (1,6):\n",
    "    print(i,'번째 자동기입 ==>', end = ' ')\n",
    "    print(random.sample(range(1,46),6))"
   ]
  },
  {
   "cell_type": "code",
   "execution_count": 16,
   "id": "b2cad164",
   "metadata": {},
   "outputs": [
    {
     "name": "stdout",
     "output_type": "stream",
     "text": [
      "1\n",
      "9\n",
      "[3, 5, 2]\n"
     ]
    }
   ],
   "source": [
    "#7 최대 최소 반환 후 두수를 리스트에서 제거\n",
    "\n",
    "def get_min_max(l):\n",
    "    max_val = max(l)\n",
    "    min_val = min(l)\n",
    "    l.remove(max_val)\n",
    "    l.remove(min_val)\n",
    "    return min_val,max_val\n",
    "\n",
    "\n",
    "l = [3, 5, 9, 1, 2]\n",
    "min_val, max_val = get_min_max(l)\n",
    "print(min_val)\n",
    "print(max_val)\n",
    "print(l)"
   ]
  },
  {
   "cell_type": "code",
   "execution_count": 18,
   "id": "260da589",
   "metadata": {},
   "outputs": [
    {
     "name": "stdout",
     "output_type": "stream",
     "text": [
      "Counter({'e': 9, 'd': 7, 'c': 4, 'a': 3, 'b': 3})\n"
     ]
    }
   ],
   "source": [
    "#8 두 딕션너리를 전달받아 더하라\n",
    "from collections import Counter\n",
    "\n",
    "def comb_dict(d1,d2):\n",
    "    d1 = Counter(d1)\n",
    "    d2 = Counter(d2)\n",
    "    return d1+d2\n",
    "    \n",
    "    \n",
    "d1 = {'a': 1, 'b': 3, 'd': 7, 'e': 8}\n",
    "d2 = {'a': 2, 'c': 4, 'e': 1}\n",
    "d3 = comb_dict(d1, d2)\n",
    "print(d3)"
   ]
  },
  {
   "cell_type": "code",
   "execution_count": 19,
   "id": "5f9ea7a0",
   "metadata": {},
   "outputs": [
    {
     "name": "stdout",
     "output_type": "stream",
     "text": [
      "4\n",
      "300\n"
     ]
    }
   ],
   "source": [
    "#9 숫자 2개이상 입력받아 최대 최소 차를 반환\n",
    "\n",
    "def diff(*n):\n",
    "    max_val = max(n)\n",
    "    min_val = min(n)\n",
    "    return max_val-min_val\n",
    "    \n",
    "    \n",
    "print(diff(1,2,3,4,5))\n",
    "print(diff(-100, 200))\n"
   ]
  },
  {
   "cell_type": "code",
   "execution_count": 5,
   "id": "420ea473",
   "metadata": {},
   "outputs": [
    {
     "name": "stdout",
     "output_type": "stream",
     "text": [
      "** 로또 번호 자동 기입을 시작합니다 ** \n",
      "1번째 자동 기입 ==>  44 18 20 35 43 1 \n",
      "2번째 자동 기입 ==>  37 8 40 20 34 31 \n",
      "3번째 자동 기입 ==>  12 34 26 4 32 1 \n",
      "4번째 자동 기입 ==>  27 17 26 21 24 1 \n",
      "5번째 자동 기입 ==>  37 22 42 30 16 20 "
     ]
    }
   ],
   "source": [
    "import random\n",
    "\n",
    "print(\"** 로또 번호 자동 기입을 시작합니다 **\", end =' ')\n",
    "for i in range(1,6):\n",
    "    print('\\n' + str(i) + '번째 자동 기입 ==> ', end=' ')\n",
    "    for j in range(0,6): print(random.randint(1,45),end=' ')\n"
   ]
  }
 ],
 "metadata": {
  "kernelspec": {
   "display_name": "Python 3 (ipykernel)",
   "language": "python",
   "name": "python3"
  },
  "language_info": {
   "codemirror_mode": {
    "name": "ipython",
    "version": 3
   },
   "file_extension": ".py",
   "mimetype": "text/x-python",
   "name": "python",
   "nbconvert_exporter": "python",
   "pygments_lexer": "ipython3",
   "version": "3.9.13"
  }
 },
 "nbformat": 4,
 "nbformat_minor": 5
}
